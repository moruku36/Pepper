{
 "cells": [
  {
   "cell_type": "markdown",
   "metadata": {},
   "source": [
    "演習問題！"
   ]
  },
  {
   "cell_type": "markdown",
   "metadata": {},
   "source": [
    "Aさん〜Eさんの５名についての出席表（辞書形式）を以下の要領で作ってみましょう。クラスで実装を行います。\n",
    "\n",
    "・attendanceというクラスを作る <br>\n",
    "・その中にコンストラクタ、attend、showの４つの関数を作る <br>\n",
    "・コンストラクタは出席表(メソッド名は”table”とする)を生成。初期化する。 <br>\n",
    "・出席表初期値は{“A”:False, “B”:False, ”C”:False, ”D”:False, ”E”:False}　とする<br>\n",
    "・attend関数<br>\n",
    "　　インスタンス名.attend(“A,B,C”)を実行したら、<br>\n",
    "　　そのインスタンスの出席表が<br>\n",
    "　　{“A”:True, “B”:True,”C”:True, “D”:False, “E”:False}となるような関数<br>\n",
    "・show関数…”本日の出席者は、{辞書の中身}です”を出力。(print関数)\n"
   ]
  },
  {
   "cell_type": "markdown",
   "metadata": {},
   "source": [
    "ヒントを以下に記す"
   ]
  },
  {
   "cell_type": "code",
   "execution_count": 1,
   "metadata": {
    "collapsed": false
   },
   "outputs": [
    {
     "ename": "SyntaxError",
     "evalue": "invalid syntax (<ipython-input-1-69aa2bf30b80>, line 2)",
     "output_type": "error",
     "traceback": [
      "\u001b[0;36m  File \u001b[0;32m\"<ipython-input-1-69aa2bf30b80>\"\u001b[0;36m, line \u001b[0;32m2\u001b[0m\n\u001b[0;31m    def __init__(????):\u001b[0m\n\u001b[0m                 ^\u001b[0m\n\u001b[0;31mSyntaxError\u001b[0m\u001b[0;31m:\u001b[0m invalid syntax\n"
     ]
    }
   ],
   "source": [
    "class attendance:\n",
    "    def __init__(????):\n",
    "        self.table= {“A”:False, “B”:False, ”C”:False, ”D”:False, ”E”:False}\n",
    "    def attend(?????):\n",
    "        attend=p.split(\",\") #入力をカンマを区切りとして、リスト化\n",
    "        #???????????\n",
    "        #???????????\n",
    "    \n",
    "    def show(????):\n",
    "        print(????)"
   ]
  },
  {
   "cell_type": "code",
   "execution_count": null,
   "metadata": {
    "collapsed": true
   },
   "outputs": [],
   "source": [
    "#解答スペース１"
   ]
  },
  {
   "cell_type": "code",
   "execution_count": null,
   "metadata": {
    "collapsed": true
   },
   "outputs": [],
   "source": [
    "#解答スペース２"
   ]
  },
  {
   "cell_type": "code",
   "execution_count": null,
   "metadata": {
    "collapsed": true
   },
   "outputs": [],
   "source": [
    "#解答スペース３"
   ]
  },
  {
   "cell_type": "code",
   "execution_count": null,
   "metadata": {
    "collapsed": true
   },
   "outputs": [],
   "source": [
    "#解答スペース４"
   ]
  },
  {
   "cell_type": "code",
   "execution_count": null,
   "metadata": {
    "collapsed": true
   },
   "outputs": [],
   "source": [
    "#解答スペース５"
   ]
  },
  {
   "cell_type": "code",
   "execution_count": null,
   "metadata": {
    "collapsed": true
   },
   "outputs": [],
   "source": []
  },
  {
   "cell_type": "markdown",
   "metadata": {},
   "source": [
    "解答はスクロールした先にあります↓↓\n",
    "<br><br><br><br><br><br><br><br><br><br><br><br><br><br><br><br><br><br><br><br><br><br>\n"
   ]
  },
  {
   "cell_type": "code",
   "execution_count": 16,
   "metadata": {
    "collapsed": false
   },
   "outputs": [],
   "source": [
    "class attendance:\n",
    "    def __init__(self):\n",
    "        self.table={\"A\":False,\"B\":False,\"C\":False,\"D\":False,\"E\":False}\n",
    "        \n",
    "    def attend(self,p):\n",
    "        attendlist=p.split(\",\")\n",
    "        for i in attendlist:\n",
    "            self.table[\"{}\".format(i)]=True\n",
    "            \n",
    "    def show(self):\n",
    "        print(\"本日の出席者は、{}です\".format(self.table))"
   ]
  },
  {
   "cell_type": "code",
   "execution_count": 17,
   "metadata": {
    "collapsed": true
   },
   "outputs": [],
   "source": [
    "May5=attendance()"
   ]
  },
  {
   "cell_type": "code",
   "execution_count": 18,
   "metadata": {
    "collapsed": true
   },
   "outputs": [],
   "source": [
    "May5.attend(\"A,B,C\")"
   ]
  },
  {
   "cell_type": "code",
   "execution_count": 19,
   "metadata": {
    "collapsed": false
   },
   "outputs": [
    {
     "name": "stdout",
     "output_type": "stream",
     "text": [
      "本日の出席者は、{'C': True, 'D': False, 'E': False, 'A': True, 'B': True}です\n"
     ]
    }
   ],
   "source": [
    "May5.show()"
   ]
  },
  {
   "cell_type": "code",
   "execution_count": null,
   "metadata": {
    "collapsed": true
   },
   "outputs": [],
   "source": []
  }
 ],
 "metadata": {
  "anaconda-cloud": {},
  "kernelspec": {
   "display_name": "Python [conda env:anaconda3-4.2.0]",
   "language": "python",
   "name": "conda-env-anaconda3-4.2.0-py"
  },
  "language_info": {
   "codemirror_mode": {
    "name": "ipython",
    "version": 3
   },
   "file_extension": ".py",
   "mimetype": "text/x-python",
   "name": "python",
   "nbconvert_exporter": "python",
   "pygments_lexer": "ipython3",
   "version": "3.5.2"
  }
 },
 "nbformat": 4,
 "nbformat_minor": 1
}
